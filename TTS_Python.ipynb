{
  "nbformat": 4,
  "nbformat_minor": 0,
  "metadata": {
    "colab": {
      "name": "TTS_Python.ipynb",
      "provenance": [],
      "authorship_tag": "ABX9TyNxFaWxN4pU+OuONsnYgECy",
      "include_colab_link": true
    },
    "kernelspec": {
      "name": "python3",
      "display_name": "Python 3"
    },
    "language_info": {
      "name": "python"
    }
  },
  "cells": [
    {
      "cell_type": "markdown",
      "metadata": {
        "id": "view-in-github",
        "colab_type": "text"
      },
      "source": [
        "<a href=\"https://colab.research.google.com/github/Sanya27/Emotional-PDF-Reader/blob/main/TTS_Python.ipynb\" target=\"_parent\"><img src=\"https://colab.research.google.com/assets/colab-badge.svg\" alt=\"Open In Colab\"/></a>"
      ]
    },
    {
      "cell_type": "markdown",
      "metadata": {
        "id": "SV2EfnCQwcSd"
      },
      "source": [
        "# **TTS using Python**"
      ]
    },
    {
      "cell_type": "markdown",
      "metadata": {
        "id": "_3yrgB4Cwbug"
      },
      "source": [
        "# Breaking a paragraph into sentences"
      ]
    },
    {
      "cell_type": "code",
      "metadata": {
        "id": "b8k44biQwLB1"
      },
      "source": [
        "import re\n",
        "alphabets= \"([A-Za-z])\"\n",
        "prefixes = \"(Mr|St|Mrs|Ms|Dr)[.]\"\n",
        "suffixes = \"(Inc|Ltd|Jr|Sr|Co)\"\n",
        "starters = \"(Mr|Mrs|Ms|Dr|He\\s|She\\s|It\\s|They\\s|Their\\s|Our\\s|We\\s|But\\s|However\\s|That\\s|This\\s|Wherever)\"\n",
        "acronyms = \"([A-Z][.][A-Z][.](?:[A-Z][.])?)\"\n",
        "websites = \"[.](com|net|org|io|gov)\"\n",
        "\n",
        "def split_into_sentences(text):\n",
        "    text = \" \" + text + \"  \"\n",
        "    text = text.replace(\"\\n\",\" \")\n",
        "    text = re.sub(prefixes,\"\\\\1<prd>\",text)\n",
        "    text = re.sub(websites,\"<prd>\\\\1\",text)\n",
        "    if \"Ph.D\" in text: text = text.replace(\"Ph.D.\",\"Ph<prd>D<prd>\")\n",
        "    text = re.sub(\"\\s\" + alphabets + \"[.] \",\" \\\\1<prd> \",text)\n",
        "    text = re.sub(acronyms+\" \"+starters,\"\\\\1<stop> \\\\2\",text)\n",
        "    text = re.sub(alphabets + \"[.]\" + alphabets + \"[.]\" + alphabets + \"[.]\",\"\\\\1<prd>\\\\2<prd>\\\\3<prd>\",text)\n",
        "    text = re.sub(alphabets + \"[.]\" + alphabets + \"[.]\",\"\\\\1<prd>\\\\2<prd>\",text)\n",
        "    text = re.sub(\" \"+suffixes+\"[.] \"+starters,\" \\\\1<stop> \\\\2\",text)\n",
        "    text = re.sub(\" \"+suffixes+\"[.]\",\" \\\\1<prd>\",text)\n",
        "    text = re.sub(\" \" + alphabets + \"[.]\",\" \\\\1<prd>\",text)\n",
        "    if \"”\" in text: text = text.replace(\".”\",\"”.\")\n",
        "    if \"\\\"\" in text: text = text.replace(\".\\\"\",\"\\\".\")\n",
        "    if \"!\" in text: text = text.replace(\"!\\\"\",\"\\\"!\")\n",
        "    if \"?\" in text: text = text.replace(\"?\\\"\",\"\\\"?\")\n",
        "    text = text.replace(\".\",\".<stop>\")\n",
        "    text = text.replace(\"?\",\"?<stop>\")\n",
        "    text = text.replace(\"!\",\"!<stop>\")\n",
        "    text = text.replace(\"<prd>\",\".\")\n",
        "    sentences = text.split(\"<stop>\")\n",
        "    sentences = sentences[:-1]\n",
        "    sentences = [s.strip() for s in sentences]\n",
        "    return sentences\n",
        "a=split_into_sentences(\"I was asked to sign a third party contract a week out from stay. If it wasn't an 8 person group that took a lot of wrangling I would have cancelled the booking straight away. Bathrooms - there are no stand alone bathrooms. Please consider this - you have to clear out the main bedroom to use that bathroom. Other option is you walk through a different bedroom to get to its en-suite. Signs all over the apartment - there are signs everywhere - some helpful - some telling you rules. Perhaps some people like this but It negatively affected our enjoyment of the accommodation. Stairs - lots of them - some had slightly bending wood which caused a minor injury\")    "
      ],
      "execution_count": null,
      "outputs": []
    },
    {
      "cell_type": "markdown",
      "metadata": {
        "id": "KlzocwEfw6BA"
      },
      "source": [
        "# Extracting emotions and modelling the voice output"
      ]
    },
    {
      "cell_type": "code",
      "metadata": {
        "id": "kAh8st9WwT0W"
      },
      "source": [
        "import pyttsx3 \n",
        "import text2emotion as te\n",
        "converter = pyttsx3.init()\n",
        "voice_id = \"HKEY_LOCAL_MACHINE\\SOFTWARE\\Microsoft\\Speech\\Voices\\Tokens\\TTS_MS_EN-US_ZIRA_11.0\"\n",
        "converter.setProperty('voice', voice_id) \n",
        "em = {'Angry': 0.12, 'Fear': 0.42, 'Happy': 0.04, 'Sad': 0.33, 'Surprise': 0.08}\n",
        "def sad(text):\n",
        "    converter.setProperty('rate', 80) \n",
        "    converter.setProperty('volume', 0.3)\n",
        "    converter.say(text)\n",
        "    converter.runAndWait() \n",
        "    \n",
        "def happy(text):\n",
        "    converter.setProperty('rate', 130) \n",
        "    converter.setProperty('volume', 0.7)\n",
        "    converter.say(text)\n",
        "    converter.runAndWait() \n",
        "\n",
        "def angry(text):\n",
        "    converter.setProperty('rate', 180) \n",
        "    converter.setProperty('volume', 2)\n",
        "    converter.say(text)\n",
        "    converter.runAndWait() \n",
        "        \n",
        "\n",
        "def return_emotion(d):\n",
        "    l=[d['Angry'],d['Happy'],d['Sad']]\n",
        "    e = max(l)\n",
        "    if e== d['Angry']:\n",
        "        emotion = 1\n",
        "    elif e ==d['Happy']:\n",
        "        emotion = 2\n",
        "    else:\n",
        "        emotion = 3\n",
        "    return emotion    \n",
        "\n",
        "for i in range(len(a)):\n",
        "    text = a[i]\n",
        "    em=te.get_emotion(text)\n",
        "    x=return_emotion(em)\n",
        "    if(x==1):\n",
        "        angry(a[i])\n",
        "    if(x==2):\n",
        "        happy(a[i])\n",
        "    if x==3:\n",
        "        sad(a[i])"
      ],
      "execution_count": null,
      "outputs": []
    }
  ]
}